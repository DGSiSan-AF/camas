{
 "cells": [
  {
   "cell_type": "code",
   "execution_count": 1,
   "metadata": {},
   "outputs": [],
   "source": [
    "import pandas as pd"
   ]
  },
  {
   "cell_type": "code",
   "execution_count": 2,
   "metadata": {},
   "outputs": [
    {
     "name": "stdout",
     "output_type": "stream",
     "text": [
      "Archivo guardado en: .//db//locales_con_ambito_1.csv\n"
     ]
    }
   ],
   "source": [
    "file_path = \".//db//locales.csv\"  # Asegúrate de colocar la ruta correcta del archivo\n",
    "df = pd.read_csv(file_path)\n",
    "\n",
    "# Definir función para clasificar los ámbitos\n",
    "def clasificar_ambito(descripcion):\n",
    "    descripcion = str(descripcion).lower()\n",
    "\n",
    "    if any(term in descripcion for term in [\"consultorio\", \"ambulatorio\", \"extraccion\", \"consul\", \"clinica\", \"clínica\"]):\n",
    "        return \"ambulatorio\"\n",
    "    elif any(term in descripcion for term in [\"guardia\", \"shockroom\", \"shock\"]):\n",
    "        return \"guardia\"\n",
    "    elif any(term in descripcion for term in [\"internacion\", \"sala\", \"habitacion\", \"terapia\", \"uco\", \"uti\", \"aislamiento\" , \"habitación\", \"internación\"]):\n",
    "        return \"internacion\"\n",
    "    elif any(term in descripcion for term in [\"jefatura\", \"personal\", \"administracion\", \"baño\"]):\n",
    "        return \"administracion\"\n",
    "    elif any(term in descripcion for term in [\"quirófano\", \"cirugía\"]):\n",
    "        return \"quirúrgico\"\n",
    "    elif any(term in descripcion for term in [\"lab\", \"labo\", \"laboratorio\"]):\n",
    "        return \"laboratorio\"\n",
    "    else:\n",
    "        return \"otros\"\n",
    "\n",
    "# Aplicar la clasificación\n",
    "df[\"ambito\"] = df[\"descripcion\"].apply(clasificar_ambito)\n",
    "\n",
    "# Guardar el archivo con la nueva columna\n",
    "output_file_path = \".//db//locales_con_ambito_1.csv\"\n",
    "df.to_csv(output_file_path, index=False)\n",
    "\n",
    "print(f\"Archivo guardado en: {output_file_path}\")"
   ]
  }
 ],
 "metadata": {
  "kernelspec": {
   "display_name": "Python 3",
   "language": "python",
   "name": "python3"
  },
  "language_info": {
   "codemirror_mode": {
    "name": "ipython",
    "version": 3
   },
   "file_extension": ".py",
   "mimetype": "text/x-python",
   "name": "python",
   "nbconvert_exporter": "python",
   "pygments_lexer": "ipython3",
   "version": "3.9.6"
  }
 },
 "nbformat": 4,
 "nbformat_minor": 2
}
